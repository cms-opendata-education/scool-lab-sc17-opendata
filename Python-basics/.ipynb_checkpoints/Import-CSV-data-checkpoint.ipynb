{
 "cells": [
  {
   "cell_type": "markdown",
   "metadata": {},
   "source": [
    "# Using the CSV format in Jupyter"
   ]
  },
  {
   "cell_type": "markdown",
   "metadata": {},
   "source": [
    "The data collected by the CMS detector can be handled in many different file formats. One easy way is to handle the data in CSV files (comma-separated values). A CSV file is basically a regular text file which includes values separated by commas and lines."
   ]
  },
  {
   "cell_type": "markdown",
   "metadata": {},
   "source": [
    "### Reading the CSV file"
   ]
  },
  {
   "cell_type": "markdown",
   "metadata": {},
   "source": [
    "CSV files can be read for example with the function _read_\\__csv( )_ of the _pandas_ module. Let's read the file _Zmumu_\\__Run2011A.csv_ which is in the folder _Data_ in the parent directory. Let's also save the content of the file to the variable _dataset_.\n",
    "\n",
    "The file contains events from the CMS primary dataset [1] with the specific selection criteria [2].\n",
    "<br>\n",
    "<br>\n",
    "<br>\n",
    "[1] CMS collaboration (2016). DoubleMu primary dataset in AOD format from RunA of 2011 (/DoubleMu/Run2011A-12Oct2013-v1/AOD). CERN Open Data Portal. DOI: [10.7483/OPENDATA.CMS.RZ34.QR6N](http://doi.org/10.7483/OPENDATA.CMS.RZ34.QR6N).\n",
    "<br>\n",
    "[2] Thomas McCauley (2016). Jpsimumu. Jupyter Notebook file. https://github.com/tpmccauley/cmsopendata-jupyter/blob/hst-0.1/Jpsimumu.ipynb. <br>"
   ]
  },
  {
   "cell_type": "code",
   "execution_count": null,
   "metadata": {
    "collapsed": true
   },
   "outputs": [],
   "source": [
    "import pandas\n",
    "\n",
    "dataset = pandas.read_csv('../Data/Zmumu_Run2011A.csv')"
   ]
  },
  {
   "cell_type": "markdown",
   "metadata": {},
   "source": [
    "We can check what kind of information the file we read contains. Let's use the command _head( )_ of the _pandas_ module which will print the first five lines of the DataFrame variable written before the command ([pandas documentation](http://pandas.pydata.org/pandas-docs/stable/generated/pandas.DataFrame.head.html))."
   ]
  },
  {
   "cell_type": "code",
   "execution_count": null,
   "metadata": {
    "collapsed": false
   },
   "outputs": [],
   "source": [
    "dataset.head()"
   ]
  },
  {
   "cell_type": "markdown",
   "metadata": {},
   "source": [
    "<br>\n",
    "Notice that there are more lines in the variable _dataset_ than the five printed. We can check the number of the lines with the function _len( )_ which will return the length of the variable given in the brackets."
   ]
  },
  {
   "cell_type": "code",
   "execution_count": null,
   "metadata": {
    "collapsed": false
   },
   "outputs": [],
   "source": [
    "len(dataset)"
   ]
  },
  {
   "cell_type": "markdown",
   "metadata": {},
   "source": [
    "### Observing and selecting the values"
   ]
  },
  {
   "cell_type": "markdown",
   "metadata": {},
   "source": [
    "From the print above, we can see that the content of the file has been saved into a table (DataFrame tabular data structure). Each line of the table represent a different collision event and the columns include different saved values for the event. Some of the values are measured by the detector and some have been calculated from the measured values.\n",
    "\n",
    "Values in the table can be accessed with the _pandas_ module. For example the data we are using contains the charges of two muons marked as _Q1_ and _Q2_. We can select certain columns from a table e.g. the charges of the first muon for all of the events by referring to the column name:"
   ]
  },
  {
   "cell_type": "code",
   "execution_count": null,
   "metadata": {
    "collapsed": false
   },
   "outputs": [],
   "source": [
    "dataset['Q1']"
   ]
  },
  {
   "cell_type": "markdown",
   "metadata": {},
   "source": [
    "Now the code printed the values of the column _Q1_ of the variable _dataset_. Of course all of the values will not be printed (there are over 10 000 of them) and on the last line of the print you can see the name and type of the information printed.\n",
    "\n",
    "The numbers on the left tell the index of the line and the numbers on the right are the values of the charges. By replacing the _Q1_ in the code it is possible to select any of the column from the _dataset_ (e.g. _pt1_, _eta1_, _phi2_, ...).\n",
    "\n",
    "If for example only the ten first values of the charges are wanted to be selected, it can be done by using the _.ix_ method. In the method the brackets first include the indexes of the lines wanted to be selected (here lines 0--10) and after those the name of the column from where the lines will be selected (here _Q1_)."
   ]
  },
  {
   "cell_type": "code",
   "execution_count": null,
   "metadata": {
    "collapsed": false,
    "scrolled": true
   },
   "outputs": [],
   "source": [
    "dataset.ix[0:10, 'Q1']"
   ]
  },
  {
   "cell_type": "markdown",
   "metadata": {},
   "source": [
    "Also individual values can be picked. Let's say we want to see that charges from indices 0,1,5 and 10. In Python 2 you can just replace 0:10 with [0,1,5,10] or in Python 3 with command"
   ]
  },
  {
   "cell_type": "code",
   "execution_count": null,
   "metadata": {
    "collapsed": false,
    "scrolled": true
   },
   "outputs": [],
   "source": [
    "dataset.loc[[0,1,5,10],'Q1']"
   ]
  },
  {
   "cell_type": "markdown",
   "metadata": {},
   "source": [
    "### Other notes"
   ]
  },
  {
   "cell_type": "markdown",
   "metadata": {},
   "source": [
    "- There are also other options for selecting the values. For example this [Stack Overflow link](http://stackoverflow.com/questions/31593201/pandas-iloc-vs-ix-vs-loc-explanation) includes other possibilities of the _pandas_ module. CSV files can also be read with other modules or libraries.\n",
    "- Note that different CSV files include different data depending on from which kind of collision events the file has been created. You can always check the content of the file by opening it in the Jupyter or in a text editor."
   ]
  }
 ],
 "metadata": {
  "kernelspec": {
   "display_name": "Python 3",
   "language": "python",
   "name": "python3"
  },
  "language_info": {
   "codemirror_mode": {
    "name": "ipython",
    "version": 3
   },
   "file_extension": ".py",
   "mimetype": "text/x-python",
   "name": "python",
   "nbconvert_exporter": "python",
   "pygments_lexer": "ipython3",
   "version": "3.6.0"
  }
 },
 "nbformat": 4,
 "nbformat_minor": 1
}
