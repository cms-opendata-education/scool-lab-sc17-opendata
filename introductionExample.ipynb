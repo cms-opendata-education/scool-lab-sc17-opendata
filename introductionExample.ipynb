{
 "cells": [
  {
   "cell_type": "markdown",
   "metadata": {},
   "source": [
    "# Howdy, ho!"
   ]
  },
  {
   "cell_type": "markdown",
   "metadata": {},
   "source": [
    "<img src=\"jean-marc.jpg\" style=\"width: 400px;\"/>"
   ]
  },
  {
   "cell_type": "markdown",
   "metadata": {},
   "source": [
    "My name is **Jean-Marc** Scooter. I am *more than* 3 months old. I was adopted from a second hand shop in [Meyrin](https://fr.wikipedia.org/wiki/Meyrin)."
   ]
  },
  {
   "cell_type": "markdown",
   "metadata": {},
   "source": [
    "Some details about me:\n",
    "\n",
    "| part               |   color              |     \n",
    "|:---:               |:---                  | \n",
    "| handles            | gray & black         |\n",
    "| body               | gray, black & blue   |\n",
    "| wheels             | brown & blue         |\n",
    "| brake pedal        | gray                 | \n",
    "| wheel rim          | gray                 | \n",
    "\n",
    "It may seem that I have a bit dark personality :< But it is not true! <br>\n",
    "Let me share a nice quote I heard this summer."
   ]
  },
  {
   "cell_type": "markdown",
   "metadata": {},
   "source": [
    "> \"If you get lost alone it is just sad... but if you get lost together it is a story!\" <br> - Jeff Wiener\n"
   ]
  },
  {
   "cell_type": "markdown",
   "metadata": {},
   "source": [
    "## Show off - see what I can do! "
   ]
  },
  {
   "cell_type": "code",
   "execution_count": 21,
   "metadata": {
    "collapsed": false
   },
   "outputs": [
    {
     "name": "stdout",
     "output_type": "stream",
     "text": [
      "Hello world!\n"
     ]
    }
   ],
   "source": [
    "print('Hello world!')"
   ]
  },
  {
   "cell_type": "code",
   "execution_count": 22,
   "metadata": {
    "collapsed": false,
    "scrolled": true
   },
   "outputs": [
    {
     "data": {
      "text/plain": [
       "2"
      ]
     },
     "execution_count": 22,
     "metadata": {},
     "output_type": "execute_result"
    }
   ],
   "source": [
    "1+1"
   ]
  },
  {
   "cell_type": "code",
   "execution_count": 26,
   "metadata": {
    "collapsed": false
   },
   "outputs": [
    {
     "data": {
      "image/png": "iVBORw0KGgoAAAANSUhEUgAAAXQAAAEKCAYAAAACS67iAAAABHNCSVQICAgIfAhkiAAAAAlwSFlz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\nRU5ErkJggg==\n",
      "text/plain": [
       "<matplotlib.figure.Figure at 0x155fed22ac8>"
      ]
     },
     "metadata": {},
     "output_type": "display_data"
    }
   ],
   "source": [
    "# I need to import matplotlib package to be able to plot things\n",
    "import matplotlib.pyplot as plt" 
    "\n",
    "%matplotlib inline\n",
    "x = [1,1,2,3,3,3,3]\n",
    "y = [4,3,2,3,4,6,8]\n",
    "plt.plot(x,y,'mo') \n",
    "plt.plot(x,y)      \n",
    "plt.title('First letter of my name', fontsize=15)\n",
    "\n",
    "axes = plt.gca()\n",
    "axes.set_xlim([0,8])\n",
    "axes.set_ylim([0,10])\n",
    "\n",
    "plt.show()"
   ]
  },
  {
   "cell_type": "markdown",
   "metadata": {},
   "source": [
    "## Now it is your turn!"
   ]
  },
  {
   "cell_type": "markdown",
   "metadata": {},
   "source": [
    "Create a notebook that introduces yourself. Make sure that the introduction includes following things:\n",
    "\n",
    "- Basic information (name, country, age, ...)\n",
    "- Markdown shell with \n",
    "    - link\n",
    "    - quote\n",
    "    - table\n",
    "    - text formatting (**bold**, *italic*,...)\n",
    "- Code shell with\n",
    "    - something printed\n",
    "    - something calculated\n",
    "    - the first letter of your name plotted    \n",
    "\n",
    "### You may extend way beyond, be as creative as you want!\n",
    "\n",
    "Basic instructions for using Jupyter can be found here: <br>\n",
    "[Basics for Jupyter Notebook](https://github.com/HennaSilvennoinen/HST2017openData/blob/master/Jupyter_basics.ipynb) <br>\n",
    "[Getting started with Jupyter](https://github.com/cms-opendata-education/cms-jupyter-materials-english/blob/master/Introduction-to-jupyter/Jupyter-getting-started.ipynb)"
   ]
  }
 ],
 "metadata": {
  "kernelspec": {
   "display_name": "Python 3",
   "language": "python",
   "name": "python3"
  },
  "language_info": {
   "codemirror_mode": {
    "name": "ipython",
    "version": 3
   },
   "file_extension": ".py",
   "mimetype": "text/x-python",
   "name": "python",
   "nbconvert_exporter": "python",
   "pygments_lexer": "ipython3",
   "version": "3.6.0"
  }
 },
 "nbformat": 4,
 "nbformat_minor": 2
}
